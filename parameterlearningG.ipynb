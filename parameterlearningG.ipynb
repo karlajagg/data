{
  "nbformat": 4,
  "nbformat_minor": 0,
  "metadata": {
    "colab": {
      "name": "parameterlearningG.ipynb",
      "provenance": [],
      "collapsed_sections": [],
      "include_colab_link": true
    },
    "kernelspec": {
      "name": "python3",
      "display_name": "Python 3"
    }
  },
  "cells": [
    {
      "cell_type": "markdown",
      "metadata": {
        "id": "view-in-github",
        "colab_type": "text"
      },
      "source": [
        "<a href=\"https://colab.research.google.com/github/karlajagg/data/blob/master/parameterlearningG.ipynb\" target=\"_parent\"><img src=\"https://colab.research.google.com/assets/colab-badge.svg\" alt=\"Open In Colab\"/></a>"
      ]
    },
    {
      "cell_type": "code",
      "metadata": {
        "id": "HOWMXvpS0RvQ",
        "outputId": "bfe15644-6ff4-4fb0-da56-fd218511e12b",
        "colab": {
          "base_uri": "https://localhost:8080/"
        }
      },
      "source": [
        "import pandas as pd\n",
        "url= 'https://raw.githubusercontent.com/karlajagg/data/master/xtrainf2.csv'\n",
        "data=pd.read_csv(url)\n",
        "print (data)"
      ],
      "execution_count": null,
      "outputs": [
        {
          "output_type": "stream",
          "text": [
            "   AB  ST EHG  AP CHCH  BC CIM PCI  ... CECN SEP  CE BRE ACC COM NOMS TipoFALLA\n",
            "0  S3  S5  S5  S5   S5  S5  S4  S5  ...   S5  S5  S5  S4  S5  S5   S5         3\n",
            "1  S3  S5  S5  S5   S5  S5  S4  S5  ...   S5  S5  S5  S4  S3  S5   S2         5\n",
            "2  S5  S5  S5  S5   S5  S5  S4  S5  ...   S5  S5  S5  S4  S2  S5   S2         1\n",
            "3  S3  S5  S5  S5   S5  S5  S4  S5  ...   S5  S5  S5  S4  S3  S5   S2         6\n",
            "4  S3  S5  S5  S5   S5  S5  S4  S5  ...   S5  S5  S5  S4  S3  S5   S2         4\n",
            "5  S5  S5  S5  S5   S5  S5  S4  S5  ...   S5  S5  S5  S4  S2  S5   S2         1\n",
            "6  S3  S5  S5  S5   S5  S5  S4  S5  ...   S5  S5  S5  S4  S3  S5   S2         7\n",
            "7  S5  S5  S5  S5   S5  S5  S4  S5  ...   S5  S5  S5  S4  S3  S0   S2         1\n",
            "\n",
            "[8 rows x 26 columns]\n"
          ],
          "name": "stdout"
        }
      ]
    },
    {
      "cell_type": "code",
      "metadata": {
        "id": "-qB4_95A86dC",
        "outputId": "1d384ceb-78f0-40f6-b391-4225e8702c88",
        "colab": {
          "base_uri": "https://localhost:8080/"
        }
      },
      "source": [
        "data1 = data.drop(['ST','EHG','AP','CHCH','BC','CIM','PCI','DES','EST','LC','FA','CAA','CEXA','CAMG','COND','CECN','SEP','CE','BRE'], axis=1)\n",
        "print(data1)"
      ],
      "execution_count": null,
      "outputs": [
        {
          "output_type": "stream",
          "text": [
            "   AB CHC CHH ACC COM NOMS  TipoFALLA\n",
            "0  S3  S5  S5  S5  S5   S5          3\n",
            "1  S3  S5  S5  S3  S5   S2          5\n",
            "2  S5  S4  S4  S2  S5   S2          1\n",
            "3  S3  S5  S5  S3  S5   S2          6\n",
            "4  S3  S5  S5  S3  S5   S2          4\n",
            "5  S5  S4  S4  S2  S5   S2          1\n",
            "6  S3  S5  S5  S3  S5   S2          7\n",
            "7  S5  S5  S5  S3  S0   S2          1\n"
          ],
          "name": "stdout"
        }
      ]
    },
    {
      "cell_type": "code",
      "metadata": {
        "id": "cY_n1ZdTBa_O",
        "outputId": "7f61411a-0665-45f6-e655-2c1835d54f62",
        "colab": {
          "base_uri": "https://localhost:8080/"
        }
      },
      "source": [
        "! pip install pgmpy"
      ],
      "execution_count": null,
      "outputs": [
        {
          "output_type": "stream",
          "text": [
            "Collecting pgmpy\n",
            "\u001b[?25l  Downloading https://files.pythonhosted.org/packages/22/16/e2edff21fca7a2cacaedd293caaaae5eaea832af0dd347c1159b4455be6b/pgmpy-0.1.12-py3-none-any.whl (322kB)\n",
            "\r\u001b[K     |█                               | 10kB 16.4MB/s eta 0:00:01\r\u001b[K     |██                              | 20kB 1.7MB/s eta 0:00:01\r\u001b[K     |███                             | 30kB 2.1MB/s eta 0:00:01\r\u001b[K     |████                            | 40kB 2.4MB/s eta 0:00:01\r\u001b[K     |█████                           | 51kB 2.0MB/s eta 0:00:01\r\u001b[K     |██████                          | 61kB 2.2MB/s eta 0:00:01\r\u001b[K     |███████                         | 71kB 2.4MB/s eta 0:00:01\r\u001b[K     |████████▏                       | 81kB 2.7MB/s eta 0:00:01\r\u001b[K     |█████████▏                      | 92kB 2.8MB/s eta 0:00:01\r\u001b[K     |██████████▏                     | 102kB 2.8MB/s eta 0:00:01\r\u001b[K     |███████████▏                    | 112kB 2.8MB/s eta 0:00:01\r\u001b[K     |████████████▏                   | 122kB 2.8MB/s eta 0:00:01\r\u001b[K     |█████████████▏                  | 133kB 2.8MB/s eta 0:00:01\r\u001b[K     |██████████████▏                 | 143kB 2.8MB/s eta 0:00:01\r\u001b[K     |███████████████▏                | 153kB 2.8MB/s eta 0:00:01\r\u001b[K     |████████████████▎               | 163kB 2.8MB/s eta 0:00:01\r\u001b[K     |█████████████████▎              | 174kB 2.8MB/s eta 0:00:01\r\u001b[K     |██████████████████▎             | 184kB 2.8MB/s eta 0:00:01\r\u001b[K     |███████████████████▎            | 194kB 2.8MB/s eta 0:00:01\r\u001b[K     |████████████████████▎           | 204kB 2.8MB/s eta 0:00:01\r\u001b[K     |█████████████████████▎          | 215kB 2.8MB/s eta 0:00:01\r\u001b[K     |██████████████████████▎         | 225kB 2.8MB/s eta 0:00:01\r\u001b[K     |███████████████████████▍        | 235kB 2.8MB/s eta 0:00:01\r\u001b[K     |████████████████████████▍       | 245kB 2.8MB/s eta 0:00:01\r\u001b[K     |█████████████████████████▍      | 256kB 2.8MB/s eta 0:00:01\r\u001b[K     |██████████████████████████▍     | 266kB 2.8MB/s eta 0:00:01\r\u001b[K     |███████████████████████████▍    | 276kB 2.8MB/s eta 0:00:01\r\u001b[K     |████████████████████████████▍   | 286kB 2.8MB/s eta 0:00:01\r\u001b[K     |█████████████████████████████▍  | 296kB 2.8MB/s eta 0:00:01\r\u001b[K     |██████████████████████████████▍ | 307kB 2.8MB/s eta 0:00:01\r\u001b[K     |███████████████████████████████▌| 317kB 2.8MB/s eta 0:00:01\r\u001b[K     |████████████████████████████████| 327kB 2.8MB/s \n",
            "\u001b[?25hRequirement already satisfied: scikit-learn in /usr/local/lib/python3.6/dist-packages (from pgmpy) (0.22.2.post1)\n",
            "Requirement already satisfied: statsmodels in /usr/local/lib/python3.6/dist-packages (from pgmpy) (0.10.2)\n",
            "Requirement already satisfied: numpy in /usr/local/lib/python3.6/dist-packages (from pgmpy) (1.18.5)\n",
            "Requirement already satisfied: pandas in /usr/local/lib/python3.6/dist-packages (from pgmpy) (1.1.4)\n",
            "Requirement already satisfied: networkx in /usr/local/lib/python3.6/dist-packages (from pgmpy) (2.5)\n",
            "Requirement already satisfied: pyparsing in /usr/local/lib/python3.6/dist-packages (from pgmpy) (2.4.7)\n",
            "Requirement already satisfied: scipy in /usr/local/lib/python3.6/dist-packages (from pgmpy) (1.4.1)\n",
            "Requirement already satisfied: joblib in /usr/local/lib/python3.6/dist-packages (from pgmpy) (0.17.0)\n",
            "Requirement already satisfied: tqdm in /usr/local/lib/python3.6/dist-packages (from pgmpy) (4.41.1)\n",
            "Requirement already satisfied: torch in /usr/local/lib/python3.6/dist-packages (from pgmpy) (1.7.0+cu101)\n",
            "Requirement already satisfied: patsy>=0.4.0 in /usr/local/lib/python3.6/dist-packages (from statsmodels->pgmpy) (0.5.1)\n",
            "Requirement already satisfied: python-dateutil>=2.7.3 in /usr/local/lib/python3.6/dist-packages (from pandas->pgmpy) (2.8.1)\n",
            "Requirement already satisfied: pytz>=2017.2 in /usr/local/lib/python3.6/dist-packages (from pandas->pgmpy) (2018.9)\n",
            "Requirement already satisfied: decorator>=4.3.0 in /usr/local/lib/python3.6/dist-packages (from networkx->pgmpy) (4.4.2)\n",
            "Requirement already satisfied: dataclasses in /usr/local/lib/python3.6/dist-packages (from torch->pgmpy) (0.7)\n",
            "Requirement already satisfied: future in /usr/local/lib/python3.6/dist-packages (from torch->pgmpy) (0.16.0)\n",
            "Requirement already satisfied: typing-extensions in /usr/local/lib/python3.6/dist-packages (from torch->pgmpy) (3.7.4.3)\n",
            "Requirement already satisfied: six in /usr/local/lib/python3.6/dist-packages (from patsy>=0.4.0->statsmodels->pgmpy) (1.15.0)\n",
            "Installing collected packages: pgmpy\n",
            "Successfully installed pgmpy-0.1.12\n"
          ],
          "name": "stdout"
        }
      ]
    },
    {
      "cell_type": "code",
      "metadata": {
        "id": "FALT_Zkf-XBQ"
      },
      "source": [
        "from pgmpy.models import BayesianModel\n",
        "\n",
        "model = BayesianModel([('CHH', 'CHC'),('CHC', 'ACC'),('CHC', 'AB'),('AB', 'TipoFALLA'),('COM', 'AB') , ('NOMS','ACC'),  ('NOMS','TipoFALLA')]) \n",
        "#El aprendizaje de parámetros es la tarea de estimar los valores de las \n",
        "#distribuciones de probabilidad condicional (CPD), para las variables AB CHC CHH ACC COM NOMS TipoFALLA.\n"
      ],
      "execution_count": null,
      "outputs": []
    },
    {
      "cell_type": "code",
      "metadata": {
        "id": "iJhYPH04CBY3",
        "outputId": "e047c7fe-290b-4406-904b-9b99f3a157a7",
        "colab": {
          "base_uri": "https://localhost:8080/"
        }
      },
      "source": [
        "from pgmpy.estimators import ParameterEstimator\n",
        "pe = ParameterEstimator(model, data)\n",
        "#CONTADOR DE ESTADOS\n",
        "print(\"\\n\", pe.state_counts('AB')) # conditional\n",
        "print(\"\\n\", pe.state_counts('CHC')) # conditional\n",
        "print(\"\\n\", pe.state_counts('CHH')) # unconditional\n",
        "print(\"\\n\", pe.state_counts('ACC')) # conditional\n",
        "print(\"\\n\", pe.state_counts('COM')) # unconditional\n",
        "print(\"\\n\", pe.state_counts('NOMS'))   # unconditional\n",
        "print(\"\\n\", pe.state_counts('TipoFALLA'))  # conditional"
      ],
      "execution_count": null,
      "outputs": [
        {
          "output_type": "stream",
          "text": [
            "/usr/local/lib/python3.6/dist-packages/statsmodels/tools/_testing.py:19: FutureWarning: pandas.util.testing is deprecated. Use the functions in the public API at pandas.testing instead.\n",
            "  import pandas.util.testing as tm\n"
          ],
          "name": "stderr"
        },
        {
          "output_type": "stream",
          "text": [
            "\n",
            " CHC   S4        S5     \n",
            "COM   S0   S5   S0   S5\n",
            "AB                     \n",
            "S3   0.0  0.0  0.0  5.0\n",
            "S5   0.0  2.0  1.0  0.0\n",
            "\n",
            " CHH   S4   S5\n",
            "CHC          \n",
            "S4   2.0  0.0\n",
            "S5   0.0  6.0\n",
            "\n",
            "     CHH\n",
            "S4    2\n",
            "S5    6\n",
            "\n",
            " CHC    S4        S5     \n",
            "NOMS   S2   S5   S2   S5\n",
            "ACC                     \n",
            "S2    2.0  0.0  0.0  0.0\n",
            "S3    0.0  0.0  5.0  0.0\n",
            "S5    0.0  0.0  0.0  1.0\n",
            "\n",
            "     COM\n",
            "S0    1\n",
            "S5    7\n",
            "\n",
            "     NOMS\n",
            "S2     7\n",
            "S5     1\n",
            "\n",
            " AB          S3        S5     \n",
            "NOMS        S2   S5   S2   S5\n",
            "TipoFALLA                    \n",
            "1          0.0  0.0  3.0  0.0\n",
            "3          0.0  1.0  0.0  0.0\n",
            "4          1.0  0.0  0.0  0.0\n",
            "5          1.0  0.0  0.0  0.0\n",
            "6          1.0  0.0  0.0  0.0\n",
            "7          1.0  0.0  0.0  0.0\n"
          ],
          "name": "stdout"
        }
      ]
    },
    {
      "cell_type": "code",
      "metadata": {
        "id": "yDXQnVi5FIOf",
        "outputId": "573c556e-bf92-455c-fd63-78889080e8ae",
        "colab": {
          "base_uri": "https://localhost:8080/"
        }
      },
      "source": [
        "#Maximum Likelihood Estimation\n",
        "from pgmpy.estimators import MaximumLikelihoodEstimator\n",
        "mle = MaximumLikelihoodEstimator(model, data)\n",
        "print(mle.estimate_cpd('AB')) # conditional\n",
        "print(mle.estimate_cpd('CHC')) # conditional\n",
        "print(mle.estimate_cpd('CHH'))  # unconditional\n",
        "print(mle.estimate_cpd('ACC')) # conditional\n",
        "print(mle.estimate_cpd('COM')) # unconditional\n",
        "print(mle.estimate_cpd('NOMS')) # unconditional\n",
        "print(mle.estimate_cpd('TipoFALLA'))  # conditional"
      ],
      "execution_count": null,
      "outputs": [
        {
          "output_type": "stream",
          "text": [
            "+--------+---------+---------+---------+---------+\n",
            "| CHC    | CHC(S4) | CHC(S4) | CHC(S5) | CHC(S5) |\n",
            "+--------+---------+---------+---------+---------+\n",
            "| COM    | COM(S0) | COM(S5) | COM(S0) | COM(S5) |\n",
            "+--------+---------+---------+---------+---------+\n",
            "| AB(S3) | 0.5     | 0.0     | 0.0     | 1.0     |\n",
            "+--------+---------+---------+---------+---------+\n",
            "| AB(S5) | 0.5     | 1.0     | 1.0     | 0.0     |\n",
            "+--------+---------+---------+---------+---------+\n",
            "+---------+---------+---------+\n",
            "| CHH     | CHH(S4) | CHH(S5) |\n",
            "+---------+---------+---------+\n",
            "| CHC(S4) | 1.0     | 0.0     |\n",
            "+---------+---------+---------+\n",
            "| CHC(S5) | 0.0     | 1.0     |\n",
            "+---------+---------+---------+\n",
            "+---------+------+\n",
            "| CHH(S4) | 0.25 |\n",
            "+---------+------+\n",
            "| CHH(S5) | 0.75 |\n",
            "+---------+------+\n",
            "+---------+----------+--------------------+----------+----------+\n",
            "| CHC     | CHC(S4)  | CHC(S4)            | CHC(S5)  | CHC(S5)  |\n",
            "+---------+----------+--------------------+----------+----------+\n",
            "| NOMS    | NOMS(S2) | NOMS(S5)           | NOMS(S2) | NOMS(S5) |\n",
            "+---------+----------+--------------------+----------+----------+\n",
            "| ACC(S2) | 1.0      | 0.3333333333333333 | 0.0      | 0.0      |\n",
            "+---------+----------+--------------------+----------+----------+\n",
            "| ACC(S3) | 0.0      | 0.3333333333333333 | 1.0      | 0.0      |\n",
            "+---------+----------+--------------------+----------+----------+\n",
            "| ACC(S5) | 0.0      | 0.3333333333333333 | 0.0      | 1.0      |\n",
            "+---------+----------+--------------------+----------+----------+\n",
            "+---------+-------+\n",
            "| COM(S0) | 0.125 |\n",
            "+---------+-------+\n",
            "| COM(S5) | 0.875 |\n",
            "+---------+-------+\n",
            "+----------+-------+\n",
            "| NOMS(S2) | 0.875 |\n",
            "+----------+-------+\n",
            "| NOMS(S5) | 0.125 |\n",
            "+----------+-------+\n",
            "+--------------+----------+----------+----------+---------------------+\n",
            "| AB           | AB(S3)   | AB(S3)   | AB(S5)   | AB(S5)              |\n",
            "+--------------+----------+----------+----------+---------------------+\n",
            "| NOMS         | NOMS(S2) | NOMS(S5) | NOMS(S2) | NOMS(S5)            |\n",
            "+--------------+----------+----------+----------+---------------------+\n",
            "| TipoFALLA(1) | 0.0      | 0.0      | 1.0      | 0.16666666666666666 |\n",
            "+--------------+----------+----------+----------+---------------------+\n",
            "| TipoFALLA(3) | 0.0      | 1.0      | 0.0      | 0.16666666666666666 |\n",
            "+--------------+----------+----------+----------+---------------------+\n",
            "| TipoFALLA(4) | 0.25     | 0.0      | 0.0      | 0.16666666666666666 |\n",
            "+--------------+----------+----------+----------+---------------------+\n",
            "| TipoFALLA(5) | 0.25     | 0.0      | 0.0      | 0.16666666666666666 |\n",
            "+--------------+----------+----------+----------+---------------------+\n",
            "| TipoFALLA(6) | 0.25     | 0.0      | 0.0      | 0.16666666666666666 |\n",
            "+--------------+----------+----------+----------+---------------------+\n",
            "| TipoFALLA(7) | 0.25     | 0.0      | 0.0      | 0.16666666666666666 |\n",
            "+--------------+----------+----------+----------+---------------------+\n"
          ],
          "name": "stdout"
        }
      ]
    },
    {
      "cell_type": "code",
      "metadata": {
        "id": "3krl6c0MH_MK"
      },
      "source": [
        "# Calibrate all CPDs of `model` using MLE:\n",
        "model.fit(data, estimator=MaximumLikelihoodEstimator)"
      ],
      "execution_count": null,
      "outputs": []
    },
    {
      "cell_type": "code",
      "metadata": {
        "id": "4zNUkdtsIM5L",
        "outputId": "764b090d-4945-40c9-dee2-6d35581a91c1",
        "colab": {
          "base_uri": "https://localhost:8080/"
        }
      },
      "source": [
        "#Bayesian Parameter Estimation\n",
        "#K2, que simplemente suma 1 al recuento de cada estado\n",
        "\n",
        "from pgmpy.estimators import BayesianEstimator\n",
        "est = BayesianEstimator(model, data)\n",
        "\n",
        "print(est.estimate_cpd('TipoFALLA', prior_type='BDeu', equivalent_sample_size=10))"
      ],
      "execution_count": null,
      "outputs": [
        {
          "output_type": "stream",
          "text": [
            "+--------------+---------------------+---------------------+---------------------+---------------------+\n",
            "| AB           | AB(S3)              | AB(S3)              | AB(S5)              | AB(S5)              |\n",
            "+--------------+---------------------+---------------------+---------------------+---------------------+\n",
            "| NOMS         | NOMS(S2)            | NOMS(S5)            | NOMS(S2)            | NOMS(S5)            |\n",
            "+--------------+---------------------+---------------------+---------------------+---------------------+\n",
            "| TipoFALLA(1) | 0.0641025641025641  | 0.11904761904761907 | 0.6212121212121211  | 0.16666666666666669 |\n",
            "+--------------+---------------------+---------------------+---------------------+---------------------+\n",
            "| TipoFALLA(3) | 0.0641025641025641  | 0.4047619047619048  | 0.07575757575757575 | 0.16666666666666669 |\n",
            "+--------------+---------------------+---------------------+---------------------+---------------------+\n",
            "| TipoFALLA(4) | 0.21794871794871792 | 0.11904761904761907 | 0.07575757575757575 | 0.16666666666666669 |\n",
            "+--------------+---------------------+---------------------+---------------------+---------------------+\n",
            "| TipoFALLA(5) | 0.21794871794871792 | 0.11904761904761907 | 0.07575757575757575 | 0.16666666666666669 |\n",
            "+--------------+---------------------+---------------------+---------------------+---------------------+\n",
            "| TipoFALLA(6) | 0.21794871794871792 | 0.11904761904761907 | 0.07575757575757575 | 0.16666666666666669 |\n",
            "+--------------+---------------------+---------------------+---------------------+---------------------+\n",
            "| TipoFALLA(7) | 0.21794871794871792 | 0.11904761904761907 | 0.07575757575757575 | 0.16666666666666669 |\n",
            "+--------------+---------------------+---------------------+---------------------+---------------------+\n"
          ],
          "name": "stdout"
        }
      ]
    },
    {
      "cell_type": "code",
      "metadata": {
        "id": "XS1dyUlTIg5Y",
        "outputId": "88952ee7-a145-49ef-d5fe-a6fa4b5b7b92",
        "colab": {
          "base_uri": "https://localhost:8080/"
        }
      },
      "source": [
        "# BayesianEstimator, too, can be used via the fit()-method\n",
        "# Aqui imprimiremos todas las CPDs\n",
        "model.fit(data, estimator=BayesianEstimator, prior_type=\"BDeu\", equivalent_sample_size=10) # default equivalent_sample_size=5\n",
        "for cpd in model.get_cpds():\n",
        "    print(cpd)"
      ],
      "execution_count": null,
      "outputs": [
        {
          "output_type": "stream",
          "text": [
            "WARNING:root:Replacing existing CPD for CHH\n",
            "WARNING:root:Replacing existing CPD for CHC\n",
            "WARNING:root:Replacing existing CPD for ACC\n",
            "WARNING:root:Replacing existing CPD for AB\n",
            "WARNING:root:Replacing existing CPD for TipoFALLA\n",
            "WARNING:root:Replacing existing CPD for COM\n",
            "WARNING:root:Replacing existing CPD for NOMS\n"
          ],
          "name": "stderr"
        },
        {
          "output_type": "stream",
          "text": [
            "+--------+---------+--------------------+---------------------+---------------------+\n",
            "| CHC    | CHC(S4) | CHC(S4)            | CHC(S5)             | CHC(S5)             |\n",
            "+--------+---------+--------------------+---------------------+---------------------+\n",
            "| COM    | COM(S0) | COM(S5)            | COM(S0)             | COM(S5)             |\n",
            "+--------+---------+--------------------+---------------------+---------------------+\n",
            "| AB(S3) | 0.5     | 0.2777777777777778 | 0.35714285714285715 | 0.8333333333333334  |\n",
            "+--------+---------+--------------------+---------------------+---------------------+\n",
            "| AB(S5) | 0.5     | 0.7222222222222222 | 0.6428571428571429  | 0.16666666666666666 |\n",
            "+--------+---------+--------------------+---------------------+---------------------+\n",
            "+---------+--------------------+---------------------+---------------------+--------------------+\n",
            "| CHC     | CHC(S4)            | CHC(S4)             | CHC(S5)             | CHC(S5)            |\n",
            "+---------+--------------------+---------------------+---------------------+--------------------+\n",
            "| NOMS    | NOMS(S2)           | NOMS(S5)            | NOMS(S2)            | NOMS(S5)           |\n",
            "+---------+--------------------+---------------------+---------------------+--------------------+\n",
            "| ACC(S2) | 0.6296296296296297 | 0.33333333333333337 | 0.11111111111111113 | 0.2380952380952381 |\n",
            "+---------+--------------------+---------------------+---------------------+--------------------+\n",
            "| ACC(S3) | 0.1851851851851852 | 0.33333333333333337 | 0.7777777777777778  | 0.2380952380952381 |\n",
            "+---------+--------------------+---------------------+---------------------+--------------------+\n",
            "| ACC(S5) | 0.1851851851851852 | 0.33333333333333337 | 0.11111111111111113 | 0.5238095238095238 |\n",
            "+---------+--------------------+---------------------+---------------------+--------------------+\n",
            "+---------+---------------------+---------------------+\n",
            "| CHH     | CHH(S4)             | CHH(S5)             |\n",
            "+---------+---------------------+---------------------+\n",
            "| CHC(S4) | 0.6428571428571429  | 0.22727272727272727 |\n",
            "+---------+---------------------+---------------------+\n",
            "| CHC(S5) | 0.35714285714285715 | 0.7727272727272727  |\n",
            "+---------+---------------------+---------------------+\n",
            "+---------+----------+\n",
            "| CHH(S4) | 0.388889 |\n",
            "+---------+----------+\n",
            "| CHH(S5) | 0.611111 |\n",
            "+---------+----------+\n",
            "+---------+----------+\n",
            "| COM(S0) | 0.333333 |\n",
            "+---------+----------+\n",
            "| COM(S5) | 0.666667 |\n",
            "+---------+----------+\n",
            "+----------+----------+\n",
            "| NOMS(S2) | 0.666667 |\n",
            "+----------+----------+\n",
            "| NOMS(S5) | 0.333333 |\n",
            "+----------+----------+\n",
            "+--------------+---------------------+---------------------+---------------------+---------------------+\n",
            "| AB           | AB(S3)              | AB(S3)              | AB(S5)              | AB(S5)              |\n",
            "+--------------+---------------------+---------------------+---------------------+---------------------+\n",
            "| NOMS         | NOMS(S2)            | NOMS(S5)            | NOMS(S2)            | NOMS(S5)            |\n",
            "+--------------+---------------------+---------------------+---------------------+---------------------+\n",
            "| TipoFALLA(1) | 0.0641025641025641  | 0.11904761904761907 | 0.6212121212121211  | 0.16666666666666669 |\n",
            "+--------------+---------------------+---------------------+---------------------+---------------------+\n",
            "| TipoFALLA(3) | 0.0641025641025641  | 0.4047619047619048  | 0.07575757575757575 | 0.16666666666666669 |\n",
            "+--------------+---------------------+---------------------+---------------------+---------------------+\n",
            "| TipoFALLA(4) | 0.21794871794871792 | 0.11904761904761907 | 0.07575757575757575 | 0.16666666666666669 |\n",
            "+--------------+---------------------+---------------------+---------------------+---------------------+\n",
            "| TipoFALLA(5) | 0.21794871794871792 | 0.11904761904761907 | 0.07575757575757575 | 0.16666666666666669 |\n",
            "+--------------+---------------------+---------------------+---------------------+---------------------+\n",
            "| TipoFALLA(6) | 0.21794871794871792 | 0.11904761904761907 | 0.07575757575757575 | 0.16666666666666669 |\n",
            "+--------------+---------------------+---------------------+---------------------+---------------------+\n",
            "| TipoFALLA(7) | 0.21794871794871792 | 0.11904761904761907 | 0.07575757575757575 | 0.16666666666666669 |\n",
            "+--------------+---------------------+---------------------+---------------------+---------------------+\n"
          ],
          "name": "stdout"
        }
      ]
    },
    {
      "cell_type": "code",
      "metadata": {
        "id": "g6Hpe-Fx3FDn",
        "outputId": "950633d2-2d68-4b77-8974-1c1e07f42f84",
        "colab": {
          "base_uri": "https://localhost:8080/"
        }
      },
      "source": [
        "from pgmpy.inference import BeliefPropagation\n",
        "\n",
        "belief_propagation = BeliefPropagation(model)\n",
        "\n",
        "# consultemos el tipoFALLA dado NOMS=S5 (1) y AB=S3 (0)\n",
        "#belief_propagation.map_query(variables=['TipoFALLA'],evidence={'NOMS':1, 'AB':0})\n",
        "\n",
        "# consultemos el tipoFALLA dado NOMS=S2 (0) y AB=S5 (1)\n",
        "#belief_propagation.map_query(variables=['TipoFALLA'],evidence={'NOMS':0, 'AB':1})\n",
        "\n",
        "# consultemos el tipoFALLA dado ACC'=S5, NOMS=S2 (0) y AB=S5 (1)\n",
        "belief_propagation.map_query(variables=['TipoFALLA'],evidence={'ACC':'S3', 'NOMS':0, 'AB':1})"
      ],
      "execution_count": null,
      "outputs": [
        {
          "output_type": "stream",
          "text": [
            "Eliminating: CHC: 100%|██████████| 2/2 [00:00<00:00, 247.35it/s]\n"
          ],
          "name": "stderr"
        },
        {
          "output_type": "execute_result",
          "data": {
            "text/plain": [
              "{'TipoFALLA': 1}"
            ]
          },
          "metadata": {
            "tags": []
          },
          "execution_count": 10
        }
      ]
    },
    {
      "cell_type": "code",
      "metadata": {
        "id": "olUdD_5vzfNf",
        "outputId": "d8e7c82c-ff3a-41e1-f8bb-0f45badcbec8",
        "colab": {
          "base_uri": "https://localhost:8080/"
        }
      },
      "source": [
        "model.get_markov_blanket('TipoFALLA')"
      ],
      "execution_count": null,
      "outputs": [
        {
          "output_type": "execute_result",
          "data": {
            "text/plain": [
              "['AB', 'NOMS']"
            ]
          },
          "metadata": {
            "tags": []
          },
          "execution_count": 11
        }
      ]
    },
    {
      "cell_type": "code",
      "metadata": {
        "id": "85sa-i-V1Wal",
        "outputId": "abba46cb-2309-477f-9cf9-05d740b0fa66",
        "colab": {
          "base_uri": "https://localhost:8080/"
        }
      },
      "source": [
        "#test_data=data.copy()\n",
        "test_data=data1[:5].copy()\n",
        "test_data.drop('TipoFALLA', axis=1, inplace=True)\n",
        "y_prob = model.predict_probability(test_data)\n",
        "y_prob,test_data,data1.head(),data"
      ],
      "execution_count": null,
      "outputs": [
        {
          "output_type": "execute_result",
          "data": {
            "text/plain": [
              "(   TipoFALLA_1  TipoFALLA_3  TipoFALLA_4  TipoFALLA_5  TipoFALLA_6  TipoFALLA_7\n",
              " 0     0.119048     0.404762     0.119048     0.119048     0.119048     0.119048\n",
              " 1     0.064103     0.064103     0.217949     0.217949     0.217949     0.217949\n",
              " 2     0.621212     0.075758     0.075758     0.075758     0.075758     0.075758\n",
              " 3     0.064103     0.064103     0.217949     0.217949     0.217949     0.217949\n",
              " 4     0.064103     0.064103     0.217949     0.217949     0.217949     0.217949,\n",
              "    AB CHC CHH ACC COM NOMS\n",
              " 0  S3  S5  S5  S5  S5   S5\n",
              " 1  S3  S5  S5  S3  S5   S2\n",
              " 2  S5  S4  S4  S2  S5   S2\n",
              " 3  S3  S5  S5  S3  S5   S2\n",
              " 4  S3  S5  S5  S3  S5   S2,\n",
              "    AB CHC CHH ACC COM NOMS  TipoFALLA\n",
              " 0  S3  S5  S5  S5  S5   S5          3\n",
              " 1  S3  S5  S5  S3  S5   S2          5\n",
              " 2  S5  S4  S4  S2  S5   S2          1\n",
              " 3  S3  S5  S5  S3  S5   S2          6\n",
              " 4  S3  S5  S5  S3  S5   S2          4,\n",
              "    AB  ST EHG  AP CHCH  BC CIM PCI  ... CECN SEP  CE BRE ACC COM NOMS TipoFALLA\n",
              " 0  S3  S5  S5  S5   S5  S5  S4  S5  ...   S5  S5  S5  S4  S5  S5   S5         3\n",
              " 1  S3  S5  S5  S5   S5  S5  S4  S5  ...   S5  S5  S5  S4  S3  S5   S2         5\n",
              " 2  S5  S5  S5  S5   S5  S5  S4  S5  ...   S5  S5  S5  S4  S2  S5   S2         1\n",
              " 3  S3  S5  S5  S5   S5  S5  S4  S5  ...   S5  S5  S5  S4  S3  S5   S2         6\n",
              " 4  S3  S5  S5  S5   S5  S5  S4  S5  ...   S5  S5  S5  S4  S3  S5   S2         4\n",
              " 5  S5  S5  S5  S5   S5  S5  S4  S5  ...   S5  S5  S5  S4  S2  S5   S2         1\n",
              " 6  S3  S5  S5  S5   S5  S5  S4  S5  ...   S5  S5  S5  S4  S3  S5   S2         7\n",
              " 7  S5  S5  S5  S5   S5  S5  S4  S5  ...   S5  S5  S5  S4  S3  S0   S2         1\n",
              " \n",
              " [8 rows x 26 columns])"
            ]
          },
          "metadata": {
            "tags": []
          },
          "execution_count": 12
        }
      ]
    }
  ]
}