{
  "nbformat": 4,
  "nbformat_minor": 0,
  "metadata": {
    "colab": {
      "name": "fallaslineasporcentaje.ipynb",
      "provenance": [],
      "collapsed_sections": [],
      "authorship_tag": "ABX9TyOcyyPyIx5qQciOviHRM87O",
      "include_colab_link": true
    },
    "kernelspec": {
      "name": "python3",
      "display_name": "Python 3"
    }
  },
  "cells": [
    {
      "cell_type": "markdown",
      "metadata": {
        "id": "view-in-github",
        "colab_type": "text"
      },
      "source": [
        "<a href=\"https://colab.research.google.com/github/karlajagg/data/blob/master/fallaslineasporcentaje.ipynb\" target=\"_parent\"><img src=\"https://colab.research.google.com/assets/colab-badge.svg\" alt=\"Open In Colab\"/></a>"
      ]
    },
    {
      "cell_type": "code",
      "metadata": {
        "id": "0biMnyRRhpF9"
      },
      "source": [
        "import pandas as pd\n",
        "url ='https://raw.githubusercontent.com/karlajagg/data/master/LINEASBASE.csv'\n",
        "df = pd.read_csv(url)\n",
        "df2 = df[['NAME','LT','TIPO']]\n",
        "\n",
        "\n"
      ],
      "execution_count": null,
      "outputs": []
    },
    {
      "cell_type": "code",
      "metadata": {
        "id": "0-_Zrv9ck3Hp",
        "outputId": "1ed9897e-253d-43e2-f8da-f6261fbb15cf",
        "colab": {
          "base_uri": "https://localhost:8080/"
        }
      },
      "source": [
        "\n",
        "#omite los valores nulos de la columna \"TIPO\"\n",
        "df3 = df2.dropna(subset=[\"TIPO\"])\n",
        "\n",
        "\n",
        "print(df3)"
      ],
      "execution_count": null,
      "outputs": [
        {
          "output_type": "stream",
          "text": [
            "      NAME     LT                                       TIPO\n",
            "33    34.0  93020                   B0= DESCARGA ATMOSFERICA\n",
            "50    51.0  93020                   B0= DESCARGA ATMOSFERICA\n",
            "53    54.0  93020                   B0= DESCARGA ATMOSFERICA\n",
            "224    2.0  93680                        C0= VIENTOS FUERTES\n",
            "310   37.0  93610                   B0= DESCARGA ATMOSFERICA\n",
            "384   59.0  93100           E2.3=EXTRAORDINARIA (ACCIDENTES)\n",
            "388   63.0  93100                          A6= CONTAMINACION\n",
            "440  115.0  93100           E2.1=EXTRAORDINARIA (VANDALISMO)\n",
            "441  116.0  93100  E2.2=EXTRAORDINARIA (FENOMENOS NATURALES)\n",
            "490  165.0  93100                   B0= DESCARGA ATMOSFERICA\n",
            "519    NaN  93610                   B0= DESCARGA ATMOSFERICA\n",
            "520    NaN  93610                        C0= VIENTOS FUERTES\n",
            "521  231.0  A3L60                   B0= DESCARGA ATMOSFERICA\n",
            "522    NaN  A3L60                   B0= DESCARGA ATMOSFERICA\n",
            "523    NaN  93100                        C2= QUEMA DE BOSQUE\n"
          ],
          "name": "stdout"
        }
      ]
    },
    {
      "cell_type": "code",
      "metadata": {
        "id": "EQBNz9FsrUtg",
        "outputId": "cf77a622-a17e-4117-e17a-a17a03bcc81d",
        "colab": {
          "base_uri": "https://localhost:8080/"
        }
      },
      "source": [
        "import collections\n",
        "cuentaTipo = collections.Counter(df3['TIPO'])\n",
        "print(cuentaTipo)"
      ],
      "execution_count": null,
      "outputs": [
        {
          "output_type": "stream",
          "text": [
            "Counter({'B0= DESCARGA ATMOSFERICA': 8, 'C0= VIENTOS FUERTES': 2, 'E2.3=EXTRAORDINARIA (ACCIDENTES)': 1, 'A6= CONTAMINACION': 1, 'E2.1=EXTRAORDINARIA (VANDALISMO)': 1, 'E2.2=EXTRAORDINARIA (FENOMENOS NATURALES)': 1, 'C2= QUEMA DE BOSQUE': 1})\n"
          ],
          "name": "stdout"
        }
      ]
    },
    {
      "cell_type": "code",
      "metadata": {
        "id": "ddGLqb50sxO7",
        "outputId": "70e4b2e4-bf8e-4072-9b41-715107e14a22",
        "colab": {
          "base_uri": "https://localhost:8080/"
        }
      },
      "source": [
        "print ('DESCARGA ATMOSFERICA')\n",
        "print(cuentaTipo['B0= DESCARGA ATMOSFERICA'])\n",
        "print ('VIENTOS FUERTES') \n",
        "print(cuentaTipo['C0= VIENTOS FUERTES'])\n",
        "print ('EXTRAORDINARIA (VANDALISMO)')\n",
        "print(cuentaTipo['E2.1=EXTRAORDINARIA (VANDALISMO)'])\n",
        "print ('EXTRAORDINARIA (FENOMENOS NATURALES)') \n",
        "print(cuentaTipo['E2.2=EXTRAORDINARIA (FENOMENOS NATURALES)'])\n",
        "print ('EXTRAORDINARIA (ACCIDENTES)') \n",
        "print(cuentaTipo['E2.3=EXTRAORDINARIA (ACCIDENTES)'])\n",
        "print ('CONTAMINACION')\n",
        "print(cuentaTipo['A6= CONTAMINACION'])\n",
        "print ('QUEMA DE BOSQUE')\n",
        "print(cuentaTipo['C2= QUEMA DE BOSQUE'])"
      ],
      "execution_count": null,
      "outputs": [
        {
          "output_type": "stream",
          "text": [
            "DESCARGA ATMOSFERICA\n",
            "8\n",
            "VIENTOS FUERTES\n",
            "2\n",
            "EXTRAORDINARIA (VANDALISMO)\n",
            "1\n",
            "EXTRAORDINARIA (FENOMENOS NATURALES)\n",
            "1\n",
            "EXTRAORDINARIA (ACCIDENTES)\n",
            "1\n",
            "CONTAMINACION\n",
            "1\n",
            "QUEMA DE BOSQUE\n",
            "1\n"
          ],
          "name": "stdout"
        }
      ]
    },
    {
      "cell_type": "code",
      "metadata": {
        "id": "szNT1Tvn3QUA",
        "outputId": "b54d5803-5978-48c5-824a-fa75a4a5c6ce",
        "colab": {
          "base_uri": "https://localhost:8080/"
        }
      },
      "source": [
        "df3['TIPO'].describe()"
      ],
      "execution_count": null,
      "outputs": [
        {
          "output_type": "execute_result",
          "data": {
            "text/plain": [
              "count                           15\n",
              "unique                           7\n",
              "top       B0= DESCARGA ATMOSFERICA\n",
              "freq                             8\n",
              "Name: TIPO, dtype: object"
            ]
          },
          "metadata": {
            "tags": []
          },
          "execution_count": 5
        }
      ]
    },
    {
      "cell_type": "code",
      "metadata": {
        "id": "0pzNAOdZeCxo",
        "outputId": "9e6121f8-8dcd-4021-c217-115d0c3593fa",
        "colab": {
          "base_uri": "https://localhost:8080/"
        }
      },
      "source": [
        "#df3.TIPO.count()\n",
        "#or\n",
        "count= df3['TIPO'].count()\n",
        "#print(count)\n",
        "int(count)"
      ],
      "execution_count": null,
      "outputs": [
        {
          "output_type": "execute_result",
          "data": {
            "text/plain": [
              "15"
            ]
          },
          "metadata": {
            "tags": []
          },
          "execution_count": 6
        }
      ]
    },
    {
      "cell_type": "code",
      "metadata": {
        "id": "fe9vr0YfrP8w",
        "outputId": "f96fafe7-eb11-475a-bce8-c33a309730c9",
        "colab": {
          "base_uri": "https://localhost:8080/"
        }
      },
      "source": [
        "B0= ((cuentaTipo['B0= DESCARGA ATMOSFERICA'])/(int(count)))*100\n",
        "print('Porcentaje B0')\n",
        "print (B0)\n",
        "C0= ((cuentaTipo['C0= VIENTOS FUERTES'])/(int(count)))*100\n",
        "print('Porcentaje C0')\n",
        "print (C0)\n",
        "E21= ((cuentaTipo['E2.1=EXTRAORDINARIA (VANDALISMO)'])/(int(count)))*100\n",
        "print('Porcentaje E2.1')\n",
        "print (E21)\n",
        "E22= ((cuentaTipo['E2.2=EXTRAORDINARIA (FENOMENOS NATURALES)'])/(int(count)))*100\n",
        "print('Porcentaje E2.2')\n",
        "print (E22)\n",
        "E23= ((cuentaTipo['E2.3=EXTRAORDINARIA (ACCIDENTES)'])/(int(count)))*100\n",
        "print('Porcentaje E2.3')\n",
        "print (E23)\n",
        "C2= ((cuentaTipo['C2= QUEMA DE BOSQUE'])/(int(count)))*100\n",
        "print('Porcentaje C2')\n",
        "print (C2)\n"
      ],
      "execution_count": null,
      "outputs": [
        {
          "output_type": "stream",
          "text": [
            "Porcentaje B0\n",
            "53.333333333333336\n",
            "Porcentaje C0\n",
            "13.333333333333334\n",
            "Porcentaje E2.1\n",
            "6.666666666666667\n",
            "Porcentaje E2.2\n",
            "6.666666666666667\n",
            "Porcentaje E2.3\n",
            "6.666666666666667\n",
            "Porcentaje C2\n",
            "6.666666666666667\n"
          ],
          "name": "stdout"
        }
      ]
    },
    {
      "cell_type": "code",
      "metadata": {
        "id": "uaLmsED1sYDh"
      },
      "source": [
        ""
      ],
      "execution_count": null,
      "outputs": []
    },
    {
      "cell_type": "code",
      "metadata": {
        "id": "VWUaRo0L5edP"
      },
      "source": [
        ""
      ],
      "execution_count": null,
      "outputs": []
    }
  ]
}